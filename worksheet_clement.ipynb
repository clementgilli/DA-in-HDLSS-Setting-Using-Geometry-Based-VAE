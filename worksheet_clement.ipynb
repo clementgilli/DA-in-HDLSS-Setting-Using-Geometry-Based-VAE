{
 "cells": [
  {
   "cell_type": "code",
   "execution_count": 1,
   "id": "2bc4f5ff",
   "metadata": {},
   "outputs": [],
   "source": [
    "import numpy as np\n",
    "import matplotlib.pyplot as plt\n",
    "import torch\n",
    "import torch.nn as nn\n",
    "import torch.optim as optim\n",
    "from torchvision import datasets, transforms\n",
    "\n",
    "import tqdm"
   ]
  },
  {
   "cell_type": "code",
   "execution_count": 2,
   "id": "8d8e408d",
   "metadata": {},
   "outputs": [],
   "source": [
    "def display_images(imgs):\n",
    "  '''\n",
    "  Display a batch of images (typically synthetic/generated images)\n",
    "  '''\n",
    "  r = 1\n",
    "  c = imgs.shape[0]\n",
    "  fig, axs = plt.subplots(r, c)\n",
    "  for j in range(c):\n",
    "    # black and white images\n",
    "    axs[j].imshow(imgs[j, 0,:,:].detach().cpu().numpy(), cmap='gray')\n",
    "    axs[j].axis('off')\n",
    "  plt.show()"
   ]
  },
  {
   "cell_type": "code",
   "execution_count": 3,
   "id": "b0f09d6a",
   "metadata": {},
   "outputs": [],
   "source": [
    "class Encoder(nn.Module):\n",
    "    def __init__(self, input_dim, latent_dim, multiplier=2):\n",
    "        super(Encoder, self).__init__()\n",
    "        self.latent_dim = latent_dim\n",
    "        self.multiplier = multiplier\n",
    "        self.fc1 = nn.Linear(input_dim, 400)\n",
    "        self.fc2 = nn.Linear(400, latent_dim * multiplier)\n",
    "\n",
    "    def forward(self, x):\n",
    "        batch_size = x.size(0)\n",
    "        x = x.view(batch_size, -1)\n",
    "        x = torch.relu(self.fc1(x))\n",
    "        x = self.fc2(x)\n",
    "        if self.multiplier == 1:\n",
    "            x = x.view(batch_size, self.latent_dim)\n",
    "        else:\n",
    "          x = x.view(batch_size, self.latent_dim, self.multiplier)\n",
    "        return x\n",
    "\n",
    "class Decoder(nn.Module):\n",
    "    def __init__(self, latent_dim, output_dim):\n",
    "        super(Decoder, self).__init__()\n",
    "        self.latent_dim = latent_dim\n",
    "        self.output_dim = output_dim\n",
    "        self.fc1 = nn.Linear(latent_dim, 400)\n",
    "        self.fc2 = nn.Linear(400, output_dim)\n",
    "\n",
    "    def forward(self, z):\n",
    "        batch_size = z.size(0)\n",
    "        z = torch.relu(self.fc1(z))\n",
    "        z = self.fc2(z)\n",
    "        z = z.view(batch_size, 1, 28, 28)\n",
    "        return torch.sigmoid(z)\n",
    "\n",
    "class MetricNN(nn.Module):\n",
    "    def __init__(self, input_dim, latent_dim, mode='diag'):\n",
    "        super(MetricNN, self).__init__()\n",
    "        self.fc1 = nn.Linear(input_dim, 400)\n",
    "        self.mode = mode\n",
    "        if mode == 'diag':\n",
    "            self.fc2 = nn.Linear(400, latent_dim)\n",
    "        elif mode == 'lower':\n",
    "            self.fc2 = nn.Linear(400, latent_dim * (latent_dim - 1) // 2)\n",
    "\n",
    "    def forward(self, x):\n",
    "        batch_size = x.size(0)\n",
    "        x = x.view(batch_size, -1)\n",
    "        x = torch.relu(self.fc1(x))\n",
    "        return self.fc2(x)"
   ]
  },
  {
   "cell_type": "code",
   "execution_count": 4,
   "id": "059e8de1",
   "metadata": {},
   "outputs": [],
   "source": [
    "def G_inverse(z, L, c, T, lambd):\n",
    "    s = 0\n",
    "    N = L.shape[1]\n",
    "    d = z.shape[1]\n",
    "    for i in range(N):\n",
    "        Li = L[i]\n",
    "        ci = c[i]\n",
    "        zi = z[i]\n",
    "        s += Li@Li.T * torch.exp (- torch.sum(zi - ci)**2 / T**2 ) + lambd*torch.eye(d, device=z.device)\n",
    "    return s"
   ]
  },
  {
   "cell_type": "code",
   "execution_count": null,
   "id": "0b18b391",
   "metadata": {},
   "outputs": [],
   "source": [
    "class RHVAEModel(nn.Module):\n",
    "    def __init__(self, input_dim=784, latent_dim=2, metric_mode = 'lower'):\n",
    "        super(RHVAEModel, self).__init__()\n",
    "\n",
    "        self.latent_dim = latent_dim\n",
    "        self.encoder = Encoder(input_dim, latent_dim)\n",
    "        self.decoder = Decoder(latent_dim, input_dim)\n",
    "        self.metric_nn = MetricNN(input_dim, latent_dim, mode=metric_mode)\n",
    "        self.G_inv = torch.eye(latent_dim)\n",
    "        self.G = torch.eye(latent_dim)\n",
    "        self.T_metric = 0.8\n",
    "        self.lambd_metric = 1e-3\n",
    "\n",
    "    def reparameterize(self, mean, logvar, mode='sample'):\n",
    "        \"\"\"\n",
    "        Samples from a normal distribution using the reparameterization trick.\n",
    "\n",
    "        Parameters\n",
    "        ----------\n",
    "        mean : torch.Tensor\n",
    "            Mean of the normal distribution. Shape (batch_size, latent_dim)\n",
    "\n",
    "        logvar : torch.Tensor\n",
    "            Diagonal log variance of the normal distribution. Shape (batch_size,\n",
    "            latent_dim)\n",
    "\n",
    "        mode : 'sample' or 'mean'\n",
    "            Returns either a sample from qzx, or just the mean of qzx. The former\n",
    "            is useful at training time. The latter is useful at inference time as\n",
    "            the mean is usually used for reconstruction, rather than a sample.\n",
    "        \"\"\"\n",
    "        if mode=='sample':\n",
    "            # Implements the reparametrization trick (slide 43):\n",
    "            std = (0.5*logvar).exp()\n",
    "            eps = torch.randn(std.size()).to(std.device)\n",
    "            return mean + eps * std\n",
    "        elif mode=='mean':\n",
    "            return mean\n",
    "        else:\n",
    "            return ValueError(\"Unknown mode: {mode}\".format(mode))\n",
    "\n",
    "    def create_matrices(self, diags, lowers=None):\n",
    "        \"\"\"\n",
    "        Create the Cholesky factor L of the metric tensor G from the output of\n",
    "        the metric neural network.\n",
    "\n",
    "        Parameters\n",
    "        ----------\n",
    "        diags : torch.Tensor\n",
    "            If using diagonal metric, the diagonal coefficients predicted by\n",
    "            the metric neural network. Shape (batch_size, latent_dim)\n",
    "\n",
    "        lowers : torch.Tensor\n",
    "            If using lower-triangular metric, the lower-triangular coefficients\n",
    "            predicted by the metric neural network. Shape\n",
    "            (batch_size, latent_dim * (latent_dim - 1) // 2)\n",
    "        \"\"\"\n",
    "        if self.metric_nn.mode == 'diag':\n",
    "            L = torch.diag_embed(torch.exp(0.5*diags))\n",
    "        elif self.metric_nn.mode == 'lower':\n",
    "            L = torch.zeros((diags.shape[0], self.latent_dim, self.latent_dim), device=diags.device)\n",
    "            tril_indices = torch.tril_indices(row=self.latent_dim, col=self.latent_dim, offset=-1)\n",
    "            L[:, tril_indices[0], tril_indices[1]] = lowers\n",
    "            diag_indices = torch.arange(self.latent_dim)\n",
    "            L[:, diag_indices, diag_indices] = diags\n",
    "        return L\n",
    "\n",
    "    def forward(self, x):\n",
    "        \"\"\"\n",
    "        Forward pass of model, used for training or reconstruction.\n",
    "\n",
    "        Parameters\n",
    "        ----------\n",
    "        x : torch.Tensor\n",
    "            Batch of data. Shape (batch_size, n_chan, height, width)\n",
    "        \"\"\"\n",
    "\n",
    "        # stats_qzx is the output of the encoder\n",
    "        stats_qzx = self.encoder(x)\n",
    "\n",
    "        # Use the reparametrization trick to sample from q(z|x)\n",
    "        samples_qzx = self.reparameterize(*stats_qzx.unbind(-1), mode='sample')\n",
    "\n",
    "        # Decode the samples to image space\n",
    "        reconstructions = self.decoder(samples_qzx)\n",
    "\n",
    "        c = stats_qzx[:,:,0]  # Mean of q(z|x)\n",
    "        coefsL = self.metric_nn(x)\n",
    "        L = self.create_matrices(*coefsL.unbind(-1))\n",
    "        self.G_inv = G_inverse(samples_qzx, L, c, self.T_metric, self.lambd_metric)\n",
    "        self.G = torch.inverse(self.G_inv)\n",
    "\n",
    "        samples_vz = self.sample_vz(samples_qzx.shape[0])\n",
    "\n",
    "        # Return everything:\n",
    "        return {\n",
    "            'reconstructions': reconstructions,\n",
    "            'stats_qzx0': stats_qzx,\n",
    "            'samples_qzx0': samples_qzx,\n",
    "            'samples_vz0': samples_vz\n",
    "        }\n",
    "\n",
    "    def sample_qzx(self, x):\n",
    "        \"\"\"\n",
    "        Returns a sample z from the latent distribution q(z|x).\n",
    "\n",
    "        Parameters\n",
    "        ----------\n",
    "        x : torch.Tensor\n",
    "            Batch of data. Shape (batch_size, n_chan, height, width)\n",
    "        \"\"\"\n",
    "        stats_qzx = self.encoder(x)\n",
    "        samples_qzx = self.reparameterize(*stats_qzx.unbind(-1))\n",
    "        return samples_qzx\n",
    "\n",
    "    def sample_vz(self, N):\n",
    "        return torch.distributions.multivariate_normal.MultivariateNormal(torch.zeros(self.G.shape[0]), covariance_matrix=self.G).sample((N,))\n",
    "\n",
    "    def sample_pz(self, N): \n",
    "        # A MODIFIER LA PRIOR\n",
    "        samples_pz = torch.randn(N, self.latent_dim, device=self.decoder.fc1.weight.device)\n",
    "        return samples_pz\n",
    "    \n",
    "    def leapfrog(self, z0, v0, epsilon, L):\n",
    "        raise NotImplementedError(\"Leapfrog method not implemented yet.\")\n",
    "\n",
    "    def generate_samples(self, N):\n",
    "        \n",
    "        samples_pz = self.sample_pz(N)\n",
    "\n",
    "        # Decode the z's to obtain samples in image space (here, probability\n",
    "        # maps which can later be sampled from or thresholded)\n",
    "        generations = self.decoder(samples_pz) # FILL IN CODE\n",
    "        return {'generations': generations}"
   ]
  },
  {
   "cell_type": "code",
   "execution_count": 40,
   "id": "79556d29",
   "metadata": {},
   "outputs": [],
   "source": [
    "def rhvae_loss(reconstructions, data, stats_qzx, beta=0.0012):\n",
    "    \"\"\"\n",
    "    Computes the VAE loss.\n",
    "\n",
    "    Parameters\n",
    "    ----------\n",
    "    reconstructions : torch.Tensor\n",
    "        Reconstructed data. Shape (batch_size, n_chan, height, width)\n",
    "\n",
    "    data : torch.Tensor\n",
    "        Original data. Shape (batch_size, n_chan, height, width)\n",
    "\n",
    "    stats_qzx : torch.Tensor\n",
    "        Statistics of the latent distribution q(z|x). Shape\n",
    "        (batch_size, latent_dim * 2)\n",
    "    \"\"\"\n",
    "\n",
    "    # Reconstruction loss (binary cross-entropy)\n",
    "    bce_loss = nn.functional.binary_cross_entropy(\n",
    "        reconstructions,\n",
    "        data,\n",
    "        reduction='sum'\n",
    "    )\n",
    "\n",
    "    # KL divergence between q(z|x) and p(z) (closed form for two Gaussians)\n",
    "    mean, logvar = stats_qzx.unbind(-1)\n",
    "    kl_div = -0.5 * torch.sum(1 + logvar - mean.pow(2) - logvar.exp())\n",
    "\n",
    "    # Total loss\n",
    "    total_loss = bce_loss + beta * kl_div\n",
    "\n",
    "    return total_loss"
   ]
  },
  {
   "cell_type": "code",
   "execution_count": null,
   "id": "b551c001",
   "metadata": {},
   "outputs": [],
   "source": [
    "batch_size = 64\n",
    "\n",
    "# MNIST Dataset\n",
    "mnist_trainset = datasets.MNIST(root='.data/mnist_data/', train=True, transform=transforms.ToTensor(), download=True)\n",
    "mnist_testset = datasets.MNIST(root='.data/mnist_data/', train=False, transform=transforms.ToTensor(), download=False)\n",
    "\n",
    "#create data loader with smaller dataset size\n",
    "max_mnist_size = 5000\n",
    "mnist_trainset_reduced = torch.utils.data.random_split(mnist_trainset, [max_mnist_size, len(mnist_trainset)-max_mnist_size])[0]\n",
    "mnist_train_loader = torch.utils.data.DataLoader(mnist_trainset, batch_size=batch_size, shuffle=True, drop_last=False)\n",
    "\n",
    "# download test dataset\n",
    "max_mnist_size = 1000\n",
    "mnist_testset_reduced = torch.utils.data.random_split(mnist_testset, [max_mnist_size, len(mnist_testset)-max_mnist_size])[0]\n",
    "mnist_test_loader = torch.utils.data.DataLoader(mnist_testset, batch_size=batch_size, shuffle=False, drop_last=False)\n"
   ]
  },
  {
   "cell_type": "code",
   "execution_count": 43,
   "id": "9bd5a71a",
   "metadata": {},
   "outputs": [
    {
     "name": "stdout",
     "output_type": "stream",
     "text": [
      "cpu\n"
     ]
    }
   ],
   "source": [
    "# Parameters\n",
    "input_dim = 28 * 28\n",
    "latent_dim = 2\n",
    "\n",
    "learning_rate = 1e-3\n",
    "n_epoch = 10 # if running on GPU you can use more epochs (10 or more)\n",
    "\n",
    "device = torch.device(\"cuda:0\" if torch.cuda.is_available() else \"cpu\")\n",
    "print(device)\n",
    "\n",
    "# Model\n",
    "rhvae_model = RHVAEModel(input_dim=input_dim, latent_dim=latent_dim, metric_mode='diag')\n",
    "rhvae_model = rhvae_model.to(device)\n",
    "\n",
    "optimizer = torch.optim.AdamW(params=rhvae_model.parameters(), lr=learning_rate, weight_decay=1e-3)"
   ]
  },
  {
   "cell_type": "code",
   "execution_count": 44,
   "id": "2a7ce1cc",
   "metadata": {},
   "outputs": [
    {
     "name": "stderr",
     "output_type": "stream",
     "text": [
      "Epoch 0: 100%|██████████| 938/938 [00:05<00:00, 180.67batch/s, loss=5.18e+3]\n"
     ]
    },
    {
     "name": "stdout",
     "output_type": "stream",
     "text": [
      "Epoch 0: Train Loss: 11016.1782\n"
     ]
    },
    {
     "name": "stderr",
     "output_type": "stream",
     "text": [
      "Epoch 1: 100%|██████████| 938/938 [00:05<00:00, 180.21batch/s, loss=4.96e+3]\n"
     ]
    },
    {
     "name": "stdout",
     "output_type": "stream",
     "text": [
      "Epoch 1: Train Loss: 9955.0018\n"
     ]
    },
    {
     "name": "stderr",
     "output_type": "stream",
     "text": [
      "Epoch 2: 100%|██████████| 938/938 [00:05<00:00, 182.44batch/s, loss=5.24e+3]\n"
     ]
    },
    {
     "name": "stdout",
     "output_type": "stream",
     "text": [
      "Epoch 2: Train Loss: 9712.9525\n"
     ]
    },
    {
     "name": "stderr",
     "output_type": "stream",
     "text": [
      "Epoch 3: 100%|██████████| 938/938 [00:05<00:00, 184.20batch/s, loss=5.24e+3]\n"
     ]
    },
    {
     "name": "stdout",
     "output_type": "stream",
     "text": [
      "Epoch 3: Train Loss: 9562.0301\n"
     ]
    },
    {
     "name": "stderr",
     "output_type": "stream",
     "text": [
      "Epoch 4: 100%|██████████| 938/938 [00:05<00:00, 183.72batch/s, loss=4.38e+3]\n"
     ]
    },
    {
     "name": "stdout",
     "output_type": "stream",
     "text": [
      "Epoch 4: Train Loss: 9454.4064\n"
     ]
    },
    {
     "name": "stderr",
     "output_type": "stream",
     "text": [
      "Epoch 5: 100%|██████████| 938/938 [00:05<00:00, 186.65batch/s, loss=4.45e+3]\n"
     ]
    },
    {
     "name": "stdout",
     "output_type": "stream",
     "text": [
      "Epoch 5: Train Loss: 9369.0356\n"
     ]
    },
    {
     "name": "stderr",
     "output_type": "stream",
     "text": [
      "Epoch 6: 100%|██████████| 938/938 [00:05<00:00, 181.43batch/s, loss=4.7e+3] \n"
     ]
    },
    {
     "name": "stdout",
     "output_type": "stream",
     "text": [
      "Epoch 6: Train Loss: 9306.1004\n"
     ]
    },
    {
     "name": "stderr",
     "output_type": "stream",
     "text": [
      "Epoch 7: 100%|██████████| 938/938 [00:05<00:00, 180.14batch/s, loss=4.26e+3]\n"
     ]
    },
    {
     "name": "stdout",
     "output_type": "stream",
     "text": [
      "Epoch 7: Train Loss: 9249.4194\n"
     ]
    },
    {
     "name": "stderr",
     "output_type": "stream",
     "text": [
      "Epoch 8: 100%|██████████| 938/938 [00:05<00:00, 180.57batch/s, loss=5.26e+3]\n"
     ]
    },
    {
     "name": "stdout",
     "output_type": "stream",
     "text": [
      "Epoch 8: Train Loss: 9199.3869\n"
     ]
    },
    {
     "name": "stderr",
     "output_type": "stream",
     "text": [
      "Epoch 9: 100%|██████████| 938/938 [00:05<00:00, 178.01batch/s, loss=4.33e+3]"
     ]
    },
    {
     "name": "stdout",
     "output_type": "stream",
     "text": [
      "Epoch 9: Train Loss: 9158.2653\n"
     ]
    },
    {
     "name": "stderr",
     "output_type": "stream",
     "text": [
      "\n"
     ]
    }
   ],
   "source": [
    "rhvae_model.train()\n",
    "\n",
    "for epoch in range(0,n_epoch):\n",
    "  train_loss=0.0\n",
    "\n",
    "  with tqdm.tqdm(mnist_train_loader, unit=\"batch\") as tepoch:\n",
    "    for data, labels in tepoch:\n",
    "      tepoch.set_description(f\"Epoch {epoch}\")\n",
    "\n",
    "      # Put data on correct device, GPU or CPU\n",
    "      data = data.to(device)\n",
    "\n",
    "      # Pass the input data through the model\n",
    "      predict = rhvae_model(data)\n",
    "      reconstructions = predict['reconstructions']\n",
    "      stats_qzx0 = predict['stats_qzx0']\n",
    "      samples_qzx0 = predict['samples_qzx0']\n",
    "      samples_vz0 = predict['samples_vz0']\n",
    "\n",
    "      # Normalizing flows\n",
    "      #samples_zK, samples_vK = rhvae_model.leapfrog(samples_qzx0, samples_vz0, epsilon=0.1, L=10)\n",
    "\n",
    "      # Compute the RHVAE loss\n",
    "      loss = rhvae_loss(reconstructions, data, stats_qzx0)\n",
    "\n",
    "      # Backpropagate\n",
    "      optimizer.zero_grad()\n",
    "      loss.backward()\n",
    "      optimizer.step()\n",
    "\n",
    "      # Aggregate the training loss for display at the end of the epoch\n",
    "      train_loss += loss.item()\n",
    "\n",
    "      # tqdm bar displays the loss\n",
    "      tepoch.set_postfix(loss=loss.item())\n",
    "\n",
    "  print('Epoch {}: Train Loss: {:.4f}'.format(epoch, train_loss/len(mnist_train_loader)))"
   ]
  },
  {
   "cell_type": "code",
   "execution_count": 55,
   "id": "f183e59b",
   "metadata": {},
   "outputs": [
    {
     "data": {
      "image/png": "[encoded data removed]",
      "text/plain": [
       "<Figure size 640x480 with 4 Axes>"
      ]
     },
     "metadata": {},
     "output_type": "display_data"
    }
   ],
   "source": [
    "rhvae_model.eval()\n",
    "samples = rhvae_model.generate_samples(4)['generations'].detach().cpu()\n",
    "display_images(samples)"
   ]
  }
 ],
 "metadata": {
  "kernelspec": {
   "display_name": "compstats",
   "language": "python",
   "name": "python3"
  },
  "language_info": {
   "codemirror_mode": {
    "name": "ipython",
    "version": 3
   },
   "file_extension": ".py",
   "mimetype": "text/x-python",
   "name": "python",
   "nbconvert_exporter": "python",
   "pygments_lexer": "ipython3",
   "version": "3.12.2"
  }
 },
 "nbformat": 4,
 "nbformat_minor": 5
}
